{
 "cells": [
  {
   "cell_type": "markdown",
   "metadata": {},
   "source": [
    "# Day34.YOLO 細節理解 - 損失函數\n",
    "今天的課程，我們講述了\n",
    "\n",
    "* 失函數是描述模型預測出來的結果和實際的差異的依據\n",
    "* YOLO 損失函數的設計包含物件位置的定位與物件類別辨識\n",
    "* YOLO損失函數透過超參數設定模型有不同的辨識能力\n",
    "\n",
    "作業\n",
    "仔細觀察，bbox 寬高計算損失方式和bbox中心計算損失方式有哪邊不一樣嗎? 為什麼要有不同的設計?title\n",
    "\n"
   ]
  }
 ],
 "metadata": {
  "kernelspec": {
   "display_name": "Python 3",
   "language": "python",
   "name": "python3"
  },
  "language_info": {
   "codemirror_mode": {
    "name": "ipython",
    "version": 3
   },
   "file_extension": ".py",
   "mimetype": "text/x-python",
   "name": "python",
   "nbconvert_exporter": "python",
   "pygments_lexer": "ipython3",
   "version": "3.7.3"
  }
 },
 "nbformat": 4,
 "nbformat_minor": 2
}
